{
  "nbformat": 4,
  "nbformat_minor": 0,
  "metadata": {
    "colab": {
      "name": "FinalPRMLcode.ipynb",
      "provenance": [],
      "collapsed_sections": [],
      "include_colab_link": true
    },
    "kernelspec": {
      "name": "python3",
      "display_name": "Python 3"
    }
  },
  "cells": [
    {
      "cell_type": "markdown",
      "metadata": {
        "id": "view-in-github",
        "colab_type": "text"
      },
      "source": [
        "<a href=\"https://colab.research.google.com/github/vaishnavipatil29/Career-Guidance-ML-Project/blob/master/FinalPRMLcode.ipynb\" target=\"_parent\"><img src=\"https://colab.research.google.com/assets/colab-badge.svg\" alt=\"Open In Colab\"/></a>"
      ]
    },
    {
      "cell_type": "markdown",
      "metadata": {
        "id": "5Ce14OgkfaAc"
      },
      "source": [
        "**Career Guidance System**"
      ]
    },
    {
      "cell_type": "code",
      "metadata": {
        "colab": {
          "base_uri": "https://localhost:8080/",
          "height": 316
        },
        "id": "VREYLjokfSaN",
        "outputId": "85f55979-5173-4f3f-abd6-978fb3c60674"
      },
      "source": [
        "#importing data\n",
        "import numpy as np\n",
        "import pandas as pd\n",
        "\n",
        "url='https://raw.githubusercontent.com/Nantha-1998/404-CODER/master/career_compute_dataset.csv'\n",
        "dataset = pd.read_csv(url)\n",
        "print(np.shape(dataset))\n",
        "dataset.head()"
      ],
      "execution_count": 141,
      "outputs": [
        {
          "output_type": "stream",
          "text": [
            "(7525, 26)\n"
          ],
          "name": "stdout"
        },
        {
          "output_type": "execute_result",
          "data": {
            "text/html": [
              "<div>\n",
              "<style scoped>\n",
              "    .dataframe tbody tr th:only-of-type {\n",
              "        vertical-align: middle;\n",
              "    }\n",
              "\n",
              "    .dataframe tbody tr th {\n",
              "        vertical-align: top;\n",
              "    }\n",
              "\n",
              "    .dataframe thead th {\n",
              "        text-align: right;\n",
              "    }\n",
              "</style>\n",
              "<table border=\"1\" class=\"dataframe\">\n",
              "  <thead>\n",
              "    <tr style=\"text-align: right;\">\n",
              "      <th></th>\n",
              "      <th>sslc</th>\n",
              "      <th>hsc</th>\n",
              "      <th>cgpa</th>\n",
              "      <th>school_type</th>\n",
              "      <th>no_of_miniprojects</th>\n",
              "      <th>no_of_projects</th>\n",
              "      <th>coresub_skill</th>\n",
              "      <th>aptitude_skill</th>\n",
              "      <th>problemsolving_skill</th>\n",
              "      <th>programming_skill</th>\n",
              "      <th>abstractthink_skill</th>\n",
              "      <th>design_skill</th>\n",
              "      <th>first_computer</th>\n",
              "      <th>first_program</th>\n",
              "      <th>lab_programs</th>\n",
              "      <th>ds_coding</th>\n",
              "      <th>technology_used</th>\n",
              "      <th>sympos_attend</th>\n",
              "      <th>sympos_won</th>\n",
              "      <th>extracurricular</th>\n",
              "      <th>learning_style</th>\n",
              "      <th>college_bench</th>\n",
              "      <th>clg_teachers_know</th>\n",
              "      <th>college_performence</th>\n",
              "      <th>college_skills</th>\n",
              "      <th>ROLE</th>\n",
              "    </tr>\n",
              "  </thead>\n",
              "  <tbody>\n",
              "    <tr>\n",
              "      <th>0</th>\n",
              "      <td>2</td>\n",
              "      <td>3</td>\n",
              "      <td>2</td>\n",
              "      <td>3</td>\n",
              "      <td>1</td>\n",
              "      <td>1</td>\n",
              "      <td>1</td>\n",
              "      <td>1</td>\n",
              "      <td>2</td>\n",
              "      <td>4</td>\n",
              "      <td>2</td>\n",
              "      <td>2</td>\n",
              "      <td>2</td>\n",
              "      <td>3</td>\n",
              "      <td>4</td>\n",
              "      <td>1</td>\n",
              "      <td>1</td>\n",
              "      <td>3</td>\n",
              "      <td>1</td>\n",
              "      <td>2</td>\n",
              "      <td>2</td>\n",
              "      <td>4</td>\n",
              "      <td>3</td>\n",
              "      <td>4</td>\n",
              "      <td>5</td>\n",
              "      <td>Technical Support</td>\n",
              "    </tr>\n",
              "    <tr>\n",
              "      <th>1</th>\n",
              "      <td>3</td>\n",
              "      <td>1</td>\n",
              "      <td>2</td>\n",
              "      <td>2</td>\n",
              "      <td>2</td>\n",
              "      <td>1</td>\n",
              "      <td>1</td>\n",
              "      <td>3</td>\n",
              "      <td>2</td>\n",
              "      <td>4</td>\n",
              "      <td>3</td>\n",
              "      <td>3</td>\n",
              "      <td>1</td>\n",
              "      <td>3</td>\n",
              "      <td>4</td>\n",
              "      <td>2</td>\n",
              "      <td>2</td>\n",
              "      <td>3</td>\n",
              "      <td>2</td>\n",
              "      <td>3</td>\n",
              "      <td>2</td>\n",
              "      <td>5</td>\n",
              "      <td>3</td>\n",
              "      <td>3</td>\n",
              "      <td>4</td>\n",
              "      <td>Software Developer</td>\n",
              "    </tr>\n",
              "    <tr>\n",
              "      <th>2</th>\n",
              "      <td>3</td>\n",
              "      <td>4</td>\n",
              "      <td>2</td>\n",
              "      <td>2</td>\n",
              "      <td>1</td>\n",
              "      <td>1</td>\n",
              "      <td>1</td>\n",
              "      <td>2</td>\n",
              "      <td>3</td>\n",
              "      <td>3</td>\n",
              "      <td>2</td>\n",
              "      <td>3</td>\n",
              "      <td>2</td>\n",
              "      <td>2</td>\n",
              "      <td>2</td>\n",
              "      <td>1</td>\n",
              "      <td>1</td>\n",
              "      <td>4</td>\n",
              "      <td>3</td>\n",
              "      <td>1</td>\n",
              "      <td>4</td>\n",
              "      <td>3</td>\n",
              "      <td>3</td>\n",
              "      <td>3</td>\n",
              "      <td>4</td>\n",
              "      <td>UI/UX Designer</td>\n",
              "    </tr>\n",
              "    <tr>\n",
              "      <th>3</th>\n",
              "      <td>3</td>\n",
              "      <td>4</td>\n",
              "      <td>2</td>\n",
              "      <td>1</td>\n",
              "      <td>1</td>\n",
              "      <td>1</td>\n",
              "      <td>1</td>\n",
              "      <td>1</td>\n",
              "      <td>3</td>\n",
              "      <td>2</td>\n",
              "      <td>2</td>\n",
              "      <td>2</td>\n",
              "      <td>2</td>\n",
              "      <td>3</td>\n",
              "      <td>4</td>\n",
              "      <td>2</td>\n",
              "      <td>1</td>\n",
              "      <td>3</td>\n",
              "      <td>2</td>\n",
              "      <td>1</td>\n",
              "      <td>2</td>\n",
              "      <td>1</td>\n",
              "      <td>4</td>\n",
              "      <td>4</td>\n",
              "      <td>3</td>\n",
              "      <td>Technical Support</td>\n",
              "    </tr>\n",
              "    <tr>\n",
              "      <th>4</th>\n",
              "      <td>2</td>\n",
              "      <td>3</td>\n",
              "      <td>2</td>\n",
              "      <td>4</td>\n",
              "      <td>1</td>\n",
              "      <td>1</td>\n",
              "      <td>1</td>\n",
              "      <td>4</td>\n",
              "      <td>3</td>\n",
              "      <td>3</td>\n",
              "      <td>2</td>\n",
              "      <td>3</td>\n",
              "      <td>2</td>\n",
              "      <td>4</td>\n",
              "      <td>4</td>\n",
              "      <td>2</td>\n",
              "      <td>1</td>\n",
              "      <td>2</td>\n",
              "      <td>1</td>\n",
              "      <td>3</td>\n",
              "      <td>1</td>\n",
              "      <td>5</td>\n",
              "      <td>4</td>\n",
              "      <td>3</td>\n",
              "      <td>1</td>\n",
              "      <td>Data Analyst</td>\n",
              "    </tr>\n",
              "  </tbody>\n",
              "</table>\n",
              "</div>"
            ],
            "text/plain": [
              "   sslc  hsc  cgpa  ...  college_performence   college_skills                ROLE\n",
              "0     2    3     2  ...                     4               5   Technical Support\n",
              "1     3    1     2  ...                     3               4  Software Developer\n",
              "2     3    4     2  ...                     3               4      UI/UX Designer\n",
              "3     3    4     2  ...                     4               3   Technical Support\n",
              "4     2    3     2  ...                     3               1        Data Analyst\n",
              "\n",
              "[5 rows x 26 columns]"
            ]
          },
          "metadata": {
            "tags": []
          },
          "execution_count": 141
        }
      ]
    },
    {
      "cell_type": "code",
      "metadata": {
        "colab": {
          "base_uri": "https://localhost:8080/"
        },
        "id": "7c1CCk-EhQic",
        "outputId": "8f7d0bb9-49bd-4825-c1f0-58b142a5d18f"
      },
      "source": [
        "data = dataset.iloc[:49,:-1].values\n",
        "label = dataset.iloc[:49,-1]\n",
        "#-------------------------------Label Encoding--------------------------#\n",
        "from sklearn.preprocessing import LabelEncoder, OneHotEncoder\n",
        "labelencoder = LabelEncoder()\n",
        "df = dataset\n",
        "label = df.iloc[:49,-1]\n",
        "original=label.unique() \n",
        "label=label.values\n",
        "label2 = labelencoder.fit_transform(label)\n",
        "y=pd.DataFrame(label2,columns=[\"ROLE\"])\n",
        "numeric=y[\"ROLE\"].unique() \n",
        "y1 = pd.DataFrame({'ROLE':original, 'Associated Number':numeric})\n",
        "print(y1)\n",
        "from sklearn.preprocessing import LabelEncoder, OneHotEncoder\n",
        "labelencoder = LabelEncoder()\n",
        "label = labelencoder.fit_transform(label)\n",
        "y=pd.DataFrame(label,columns=[\"role\"])\n",
        "X = pd.DataFrame(data,columns=['sslc','hsc','cgpa','school_type','no_of_miniprojects','no_of_projects',\n",
        "                                'coresub_skill','aptitude_skill','problemsolving_skill','programming_skill','abstractthink_skill',\n",
        "                                'design_skill','first_computer','first_program','lab_programs','ds_coding','technology_used',\n",
        "                                'sympos_attend','sympos_won','extracurricular','learning_style','college_bench','clg_teachers_know','college_performence','college_skills'])"
      ],
      "execution_count": 175,
      "outputs": [
        {
          "output_type": "stream",
          "text": [
            "                 ROLE  Associated Number\n",
            "0   Technical Support                  4\n",
            "1  Software Developer                  2\n",
            "2      UI/UX Designer                  6\n",
            "3        Data Analyst                  1\n",
            "4    Technical Writer                  5\n",
            "5       Web Developer                  7\n",
            "6     Software Tester                  3\n",
            "7    Business Analyst                  0\n"
          ],
          "name": "stdout"
        }
      ]
    },
    {
      "cell_type": "markdown",
      "metadata": {
        "id": "YZzTh9Yrf_x6"
      },
      "source": [
        "Thus, we have categorical data and categorical target.\n",
        "\n",
        "For  Feature Selection : \n",
        "\n",
        "We propose to use: \n",
        "\n",
        "1. Chi-Squared Statistic.\n",
        "2. Mutual Information Statistic.\n",
        "\n"
      ]
    },
    {
      "cell_type": "code",
      "metadata": {
        "id": "EkszPWfkf_dz"
      },
      "source": [
        "\n",
        "from pandas import read_csv\n",
        "from sklearn.model_selection import train_test_split\n",
        "from sklearn.preprocessing import LabelEncoder\n",
        "from sklearn.preprocessing import OrdinalEncoder\n",
        "from sklearn.feature_selection import SelectKBest\n",
        "from sklearn.feature_selection import chi2\n",
        "from matplotlib import pyplot"
      ],
      "execution_count": 143,
      "outputs": []
    },
    {
      "cell_type": "code",
      "metadata": {
        "colab": {
          "base_uri": "https://localhost:8080/",
          "height": 1000
        },
        "id": "An3KlNcZglav",
        "outputId": "be6e46b5-63a0-44d1-a8a3-e8be21b8a621"
      },
      "source": [
        "# feature selection\n",
        "# example of chi squared feature selection for categorical data\n",
        "def select_features(X_train, y_train, X_test):\n",
        "\tfs = SelectKBest(score_func=chi2, k='all')\n",
        "\tfs.fit(X_train, y_train)\n",
        "\tX_train_fs = fs.transform(X_train)\n",
        "\tX_test_fs = fs.transform(X_test)\n",
        "\treturn X_train_fs, X_test_fs, fs\n",
        "\n",
        "# split into train and test sets\n",
        "X_train, X_test, y_train, y_test = train_test_split(X, y, test_size=0.2, random_state=20)#Decision tree\n",
        "X_train2,X_test2,y_train2,y_test2=train_test_split(X,y,test_size=0.3,random_state=10)#XGBoost\n",
        "X_train6,X_test6,y_train6,y_test6=train_test_split(X,y,test_size=0.2,random_state=15)#SVM\n",
        "\n",
        "X_train1, X_test1, fs1 = select_features(X_train, y_train, X_test)\n",
        "X_train3, X_test3, fs3 = select_features(X_train2, y_train2, X_test2)\n",
        "X_train5, X_test5, fs5 = select_features(X_train2, y_train2, X_test2)\n",
        "\n",
        "# what are scores for the features\n",
        "for i in range(len(fs1.scores_)):\n",
        "\tprint('Feature %d: %f' % (i, fs.scores_[i]))\n",
        "# plot the scores\n",
        "pyplot.bar([i for i in range(len(fs.scores_))], fs.scores_)\n",
        "pyplot.show()\n",
        "\n",
        "count = 0\n",
        "for i in fs.scores_ : \n",
        "    if i > 1 : \n",
        "        count = count + 1\n",
        "k1=count\n",
        "print(\" The number of important features with threshold as 1 :{} \".format(k1))\n",
        "\n",
        "\n",
        "for i in range(len(fs3.scores_)):\n",
        "\tprint('Feature %d: %f' % (i, fs3.scores_[i]))\n",
        "# plot the scores\n",
        "pyplot.bar([i for i in range(len(fs3.scores_))], fs3.scores_)\n",
        "pyplot.show()\n",
        "\n",
        "count = 0\n",
        "for i in fs3.scores_ : \n",
        "    if i > 1 : \n",
        "        count = count + 1\n",
        "k3=count\n",
        "\n",
        "print(\" The number of important features with threshold as 1 :{} \".format(k3))"
      ],
      "execution_count": 144,
      "outputs": [
        {
          "output_type": "stream",
          "text": [
            "Feature 0: 0.056432\n",
            "Feature 1: 0.026606\n",
            "Feature 2: 0.264380\n",
            "Feature 3: 0.381868\n",
            "Feature 4: 1.256479\n",
            "Feature 5: 1.807401\n",
            "Feature 6: 1.264217\n",
            "Feature 7: 0.566296\n",
            "Feature 8: 0.000000\n",
            "Feature 9: 0.000000\n",
            "Feature 10: 0.676191\n",
            "Feature 11: 0.898628\n",
            "Feature 12: 1.021494\n",
            "Feature 13: 0.000000\n",
            "Feature 14: 1.712591\n",
            "Feature 15: 0.273604\n",
            "Feature 16: 2.650362\n",
            "Feature 17: 0.150529\n",
            "Feature 18: 0.279142\n",
            "Feature 19: 0.146479\n",
            "Feature 20: 0.246907\n",
            "Feature 21: 0.181558\n",
            "Feature 22: 0.243139\n",
            "Feature 23: 0.814039\n",
            "Feature 24: 0.079684\n"
          ],
          "name": "stdout"
        },
        {
          "output_type": "display_data",
          "data": {
            "image/png": "[encoded data removed]",
            "text/plain": [
              "<Figure size 432x288 with 1 Axes>"
            ]
          },
          "metadata": {
            "tags": [],
            "needs_background": "light"
          }
        },
        {
          "output_type": "stream",
          "text": [
            " The number of important features with threshold as 1 :6 \n",
            "Feature 0: 2.647197\n",
            "Feature 1: 0.606646\n",
            "Feature 2: 0.987726\n",
            "Feature 3: 3.816667\n",
            "Feature 4: 2.366213\n",
            "Feature 5: 1.146154\n",
            "Feature 6: 1.424897\n",
            "Feature 7: 4.506504\n",
            "Feature 8: 1.653086\n",
            "Feature 9: 1.386111\n",
            "Feature 10: 3.688753\n",
            "Feature 11: 2.377637\n",
            "Feature 12: 1.653040\n",
            "Feature 13: 1.869637\n",
            "Feature 14: 0.573077\n",
            "Feature 15: 2.759781\n",
            "Feature 16: 1.664387\n",
            "Feature 17: 2.188087\n",
            "Feature 18: 3.249751\n",
            "Feature 19: 4.095988\n",
            "Feature 20: 1.730137\n",
            "Feature 21: 0.844985\n",
            "Feature 22: 0.326944\n",
            "Feature 23: 0.498964\n",
            "Feature 24: 7.232533\n"
          ],
          "name": "stdout"
        },
        {
          "output_type": "display_data",
          "data": {
            "image/png": "[encoded data removed]",
            "text/plain": [
              "<Figure size 432x288 with 1 Axes>"
            ]
          },
          "metadata": {
            "tags": [],
            "needs_background": "light"
          }
        },
        {
          "output_type": "stream",
          "text": [
            " The number of important features with threshold as 1 :19 \n"
          ],
          "name": "stdout"
        }
      ]
    },
    {
      "cell_type": "code",
      "metadata": {
        "colab": {
          "base_uri": "https://localhost:8080/",
          "height": 702
        },
        "id": "wqvizUr3R_-d",
        "outputId": "8bc5bb23-d53c-46ad-aa27-1acee0c2e2cb"
      },
      "source": [
        "#X_train4, X_test4, fs = select_features(X_train2, y_train2, X_test2)\n",
        "for i in range(len(fs5.scores_)):\n",
        "\tprint('Feature %d: %f' % (i, fs5.scores_[i]))\n",
        "# plot the scores\n",
        "pyplot.bar([i for i in range(len(fs5.scores_))], fs5.scores_)\n",
        "pyplot.show()\n",
        "\n",
        "count = 0\n",
        "for i in fs5.scores_ : \n",
        "    if i > 1 : \n",
        "        count = count + 1\n",
        "k5=count\n",
        "\n",
        "print(\" The number of important features with threshold as 1 : {}\" .format(k5))"
      ],
      "execution_count": 145,
      "outputs": [
        {
          "output_type": "stream",
          "text": [
            "Feature 0: 2.647197\n",
            "Feature 1: 0.606646\n",
            "Feature 2: 0.987726\n",
            "Feature 3: 3.816667\n",
            "Feature 4: 2.366213\n",
            "Feature 5: 1.146154\n",
            "Feature 6: 1.424897\n",
            "Feature 7: 4.506504\n",
            "Feature 8: 1.653086\n",
            "Feature 9: 1.386111\n",
            "Feature 10: 3.688753\n",
            "Feature 11: 2.377637\n",
            "Feature 12: 1.653040\n",
            "Feature 13: 1.869637\n",
            "Feature 14: 0.573077\n",
            "Feature 15: 2.759781\n",
            "Feature 16: 1.664387\n",
            "Feature 17: 2.188087\n",
            "Feature 18: 3.249751\n",
            "Feature 19: 4.095988\n",
            "Feature 20: 1.730137\n",
            "Feature 21: 0.844985\n",
            "Feature 22: 0.326944\n",
            "Feature 23: 0.498964\n",
            "Feature 24: 7.232533\n"
          ],
          "name": "stdout"
        },
        {
          "output_type": "display_data",
          "data": {
            "image/png": "[encoded data removed]",
            "text/plain": [
              "<Figure size 432x288 with 1 Axes>"
            ]
          },
          "metadata": {
            "tags": [],
            "needs_background": "light"
          }
        },
        {
          "output_type": "stream",
          "text": [
            " The number of important features with threshold as 1 : 19\n"
          ],
          "name": "stdout"
        }
      ]
    },
    {
      "cell_type": "markdown",
      "metadata": {
        "id": "yQK5DajNzrYD"
      },
      "source": [
        "A bar chart of the feature importance scores for each input feature is created.\n",
        "\n"
      ]
    },
    {
      "cell_type": "markdown",
      "metadata": {
        "id": "p-Pll3-10ASq"
      },
      "source": [
        "So, from above plot we remove the features with lower importance scores (<1.5).\n",
        "\n",
        "Hence features 2,5,8,9,14,16,21,22,23 are not considered,\n",
        "\n",
        "We could set k=16 i.e (25-9)  When configuring the SelectKBest to select these top 16 features"
      ]
    },
    {
      "cell_type": "code",
      "metadata": {
        "colab": {
          "base_uri": "https://localhost:8080/"
        },
        "id": "IcSMQuHA3rzW",
        "outputId": "738d5820-976e-43cb-ed68-288e32affd8b"
      },
      "source": [
        "def select_features(X_train, y_train, X_test):\n",
        "\tfs = SelectKBest(score_func=chi2,k=k1)\n",
        "\tfs.fit(X_train, y_train)\n",
        "\tX_train_fs = fs.transform(X_train)\n",
        "\tX_test_fs = fs.transform(X_test)\n",
        "\treturn X_train_fs, X_test_fs, fs\n",
        "\n",
        "def select_features2(X_train, y_train, X_test):\n",
        "\tfs = SelectKBest(score_func=chi2,k=k3)\n",
        "\tfs.fit(X_train, y_train)\n",
        "\tX_train_fs = fs.transform(X_train)\n",
        "\tX_test_fs = fs.transform(X_test)\n",
        "\treturn X_train_fs, X_test_fs, fs\n",
        "\n",
        "def select_features3(X_train, y_train, X_test):\n",
        "\tfs = SelectKBest(score_func=chi2,k=k5)\n",
        "\tfs.fit(X_train, y_train)\n",
        "\tX_train_fs = fs.transform(X_train)\n",
        "\tX_test_fs = fs.transform(X_test)\n",
        "\treturn X_train_fs, X_test_fs, fs\n",
        "\n",
        "\n",
        "X_train1, X_test1, fs = select_features(X_train, y_train, X_test)\n",
        "X_train3, X_test3, fs = select_features2(X_train2, y_train2, X_test2)\n",
        "X_train5, X_test5, fs = select_features3(X_train6, y_train6, X_test6)\n",
        "\n",
        " \n",
        "#---------------SVM------------------#\n",
        "#\n",
        "print(\"Without feature Selection : \")\n",
        "acc = svm(X_train6,y_train6,X_test6,y_test6)\n",
        "\n",
        "print(\"With feature Selection : \")\n",
        "acc1 = svm(X_train5,y_train6,X_test5,y_test6)\n",
        "\n",
        "#-------------Decision Tree-----------------#\n",
        "print(\"Without feature Selection : \")\n",
        "acc1,clf1 = Dec_tree(X_train1,y_train,X_test1,y_test)\n",
        "\n",
        "\n",
        "print(\"With feature Selection : \")\n",
        "acc,clf = Dec_tree(X_train,y_train,X_test,y_test)\n",
        "\n",
        "print(' ')\n",
        "\n",
        "#-------------XGBoost-----------------#\n",
        "print(\"Boosting the Decision Tree  \")\n",
        "acc = xgboost(X_train2,y_train2,X_test2,y_test2,clf)\n"
      ],
      "execution_count": 149,
      "outputs": [
        {
          "output_type": "stream",
          "text": [
            "Without feature Selection : \n",
            "Model accuracy score with default hyperparameters: 60.0000\n",
            "With feature Selection : \n",
            "Model accuracy score with default hyperparameters: 70.0000\n",
            "Without feature Selection : \n",
            "Model accuracy score with Decision Tree 40.0\n",
            "With feature Selection : \n",
            "Model accuracy score with Decision Tree 40.0\n",
            " \n",
            "Boosting the Decision Tree  \n",
            "accuracy= 93.33333333333333\n"
          ],
          "name": "stdout"
        },
        {
          "output_type": "stream",
          "text": [
            "/usr/local/lib/python3.6/dist-packages/sklearn/utils/validation.py:760: DataConversionWarning: A column-vector y was passed when a 1d array was expected. Please change the shape of y to (n_samples, ), for example using ravel().\n",
            "  y = column_or_1d(y, warn=True)\n",
            "/usr/local/lib/python3.6/dist-packages/sklearn/utils/validation.py:760: DataConversionWarning: A column-vector y was passed when a 1d array was expected. Please change the shape of y to (n_samples, ), for example using ravel().\n",
            "  y = column_or_1d(y, warn=True)\n",
            "/usr/local/lib/python3.6/dist-packages/sklearn/preprocessing/_label.py:235: DataConversionWarning: A column-vector y was passed when a 1d array was expected. Please change the shape of y to (n_samples, ), for example using ravel().\n",
            "  y = column_or_1d(y, warn=True)\n",
            "/usr/local/lib/python3.6/dist-packages/sklearn/preprocessing/_label.py:268: DataConversionWarning: A column-vector y was passed when a 1d array was expected. Please change the shape of y to (n_samples, ), for example using ravel().\n",
            "  y = column_or_1d(y, warn=True)\n"
          ],
          "name": "stderr"
        }
      ]
    },
    {
      "cell_type": "markdown",
      "metadata": {
        "id": "w_GJF49U0ABF"
      },
      "source": [
        "Mutual Info Classification"
      ]
    },
    {
      "cell_type": "code",
      "metadata": {
        "colab": {
          "base_uri": "https://localhost:8080/",
          "height": 1000
        },
        "id": "xtsFDLnYiWNP",
        "outputId": "a58dfc84-955e-4e5f-fcf9-b25a35747fe1"
      },
      "source": [
        "# example of mutual information feature selection for categorical data\n",
        "from sklearn.feature_selection import mutual_info_classif\n",
        "\n",
        "def select_features(X_train, y_train, X_test):\n",
        "\tfs = SelectKBest(score_func=mutual_info_classif, k='all')\n",
        "\tfs.fit(X_train, y_train)\n",
        "\tX_train_fs = fs.transform(X_train)\n",
        "\tX_test_fs = fs.transform(X_test)\n",
        "\treturn X_train_fs, X_test_fs, fs\n",
        "\n",
        "# split into train and test sets\n",
        "X_train, X_test, y_train, y_test = train_test_split(X, y, test_size=0.2, random_state=20)#Decision tree\n",
        "X_train2,X_test2,y_train2,y_test2=train_test_split(X,y,test_size=0.3,random_state=10)#XGBoost\n",
        "X_train6,X_test6,y_train6,y_test6=train_test_split(X,y,test_size=0.2,random_state=15)#SVM\n",
        "\n",
        "X_train1, X_test1, fs1 = select_features(X_train, y_train, X_test)\n",
        "X_train3, X_test3, fs3 = select_features(X_train2, y_train2, X_test2)\n",
        "X_train5, X_test5, fs5 = select_features(X_train2, y_train2, X_test2)\n",
        "\n",
        "# what are scores for the features\n",
        "for i in range(len(fs1.scores_)):\n",
        "\tprint('Feature %d: %f' % (i, fs.scores_[i]))\n",
        "# plot the scores\n",
        "pyplot.bar([i for i in range(len(fs.scores_))], fs.scores_)\n",
        "pyplot.show()\n",
        "\n",
        "count = 0\n",
        "for i in fs.scores_ : \n",
        "    if i > 0.2 : \n",
        "        count = count + 1\n",
        "k1=count\n",
        "print(\" The number of important features with threshold as 0.2 :{} \".format(k1))\n",
        "\n",
        "\n",
        "for i in range(len(fs3.scores_)):\n",
        "\tprint('Feature %d: %f' % (i, fs3.scores_[i]))\n",
        "# plot the scores\n",
        "pyplot.bar([i for i in range(len(fs3.scores_))], fs3.scores_)\n",
        "pyplot.show()\n",
        "\n",
        "count = 0\n",
        "for i in fs3.scores_ : \n",
        "    if i > 0.2 : \n",
        "        count = count + 1\n",
        "k3=count\n",
        "\n",
        "print(\" The number of important features with threshold as 0.2 :{} \".format(k3))\n",
        "\n",
        "#X_train4, X_test4, fs = select_features(X_train2, y_train2, X_test2)\n",
        "for i in range(len(fs5.scores_)):\n",
        "\tprint('Feature %d: %f' % (i, fs5.scores_[i]))\n",
        "# plot the scores\n",
        "pyplot.bar([i for i in range(len(fs5.scores_))], fs5.scores_)\n",
        "pyplot.show()\n",
        "\n",
        "count = 0\n",
        "for i in fs5.scores_ : \n",
        "    if i > 0.2 : \n",
        "        count = count + 1\n",
        "k5=count\n",
        "\n",
        "print(\" The number of important features with threshold as 0.2 : {}\" .format(k5))"
      ],
      "execution_count": 147,
      "outputs": [
        {
          "output_type": "stream",
          "text": [
            "/usr/local/lib/python3.6/dist-packages/sklearn/utils/validation.py:760: DataConversionWarning: A column-vector y was passed when a 1d array was expected. Please change the shape of y to (n_samples, ), for example using ravel().\n",
            "  y = column_or_1d(y, warn=True)\n",
            "/usr/local/lib/python3.6/dist-packages/sklearn/utils/validation.py:760: DataConversionWarning: A column-vector y was passed when a 1d array was expected. Please change the shape of y to (n_samples, ), for example using ravel().\n",
            "  y = column_or_1d(y, warn=True)\n",
            "/usr/local/lib/python3.6/dist-packages/sklearn/utils/validation.py:760: DataConversionWarning: A column-vector y was passed when a 1d array was expected. Please change the shape of y to (n_samples, ), for example using ravel().\n",
            "  y = column_or_1d(y, warn=True)\n"
          ],
          "name": "stderr"
        },
        {
          "output_type": "stream",
          "text": [
            "Feature 0: 1.939425\n",
            "Feature 1: 0.621032\n",
            "Feature 2: 1.190205\n",
            "Feature 3: 2.361067\n",
            "Feature 4: 2.723434\n",
            "Feature 5: 1.019886\n",
            "Feature 6: 1.630621\n",
            "Feature 7: 5.962755\n",
            "Feature 8: 0.948673\n",
            "Feature 9: 1.391667\n",
            "Feature 10: 3.995109\n",
            "Feature 11: 3.001412\n",
            "Feature 12: 1.301361\n",
            "Feature 13: 1.730517\n",
            "Feature 14: 0.916034\n",
            "Feature 15: 2.627847\n",
            "Feature 16: 0.703328\n",
            "Feature 17: 2.405423\n",
            "Feature 18: 3.379566\n",
            "Feature 19: 3.567291\n",
            "Feature 20: 2.512279\n",
            "Feature 21: 1.074299\n",
            "Feature 22: 0.271954\n",
            "Feature 23: 0.452889\n",
            "Feature 24: 8.890845\n"
          ],
          "name": "stdout"
        },
        {
          "output_type": "display_data",
          "data": {
            "image/png": "[encoded data removed]",
            "text/plain": [
              "<Figure size 432x288 with 1 Axes>"
            ]
          },
          "metadata": {
            "tags": [],
            "needs_background": "light"
          }
        },
        {
          "output_type": "stream",
          "text": [
            " The number of important features with threshold as 0.2 :25 \n",
            "Feature 0: 0.206512\n",
            "Feature 1: 0.000000\n",
            "Feature 2: 0.030565\n",
            "Feature 3: 0.000000\n",
            "Feature 4: 1.123318\n",
            "Feature 5: 1.615520\n",
            "Feature 6: 0.763666\n",
            "Feature 7: 0.226821\n",
            "Feature 8: 0.021102\n",
            "Feature 9: 0.000000\n",
            "Feature 10: 0.605446\n",
            "Feature 11: 0.231260\n",
            "Feature 12: 1.023677\n",
            "Feature 13: 0.055574\n",
            "Feature 14: 2.088958\n",
            "Feature 15: 0.304069\n",
            "Feature 16: 1.360764\n",
            "Feature 17: 0.000000\n",
            "Feature 18: 0.297629\n",
            "Feature 19: 0.143156\n",
            "Feature 20: 0.305350\n",
            "Feature 21: 0.058968\n",
            "Feature 22: 0.230731\n",
            "Feature 23: 0.455775\n",
            "Feature 24: 0.175940\n"
          ],
          "name": "stdout"
        },
        {
          "output_type": "display_data",
          "data": {
            "image/png": "[encoded data removed]",
            "text/plain": [
              "<Figure size 432x288 with 1 Axes>"
            ]
          },
          "metadata": {
            "tags": [],
            "needs_background": "light"
          }
        },
        {
          "output_type": "stream",
          "text": [
            " The number of important features with threshold as 0.2 :15 \n",
            "Feature 0: 0.143944\n",
            "Feature 1: 0.000000\n",
            "Feature 2: 0.102765\n",
            "Feature 3: 0.000000\n",
            "Feature 4: 0.600839\n",
            "Feature 5: 0.759564\n",
            "Feature 6: 0.593741\n",
            "Feature 7: 0.182509\n",
            "Feature 8: 0.276503\n",
            "Feature 9: 0.000000\n",
            "Feature 10: 0.173822\n",
            "Feature 11: 0.328662\n",
            "Feature 12: 0.483945\n",
            "Feature 13: 0.066697\n",
            "Feature 14: 1.777437\n",
            "Feature 15: 0.209989\n",
            "Feature 16: 1.585256\n",
            "Feature 17: 0.333728\n",
            "Feature 18: 0.291603\n",
            "Feature 19: 0.127384\n",
            "Feature 20: 0.202855\n",
            "Feature 21: 0.144670\n",
            "Feature 22: 0.202034\n",
            "Feature 23: 0.443774\n",
            "Feature 24: 0.208607\n"
          ],
          "name": "stdout"
        },
        {
          "output_type": "display_data",
          "data": {
            "image/png": "[encoded data removed]",
            "text/plain": [
              "<Figure size 432x288 with 1 Axes>"
            ]
          },
          "metadata": {
            "tags": [],
            "needs_background": "light"
          }
        },
        {
          "output_type": "stream",
          "text": [
            " The number of important features with threshold as 0.2 : 15\n"
          ],
          "name": "stdout"
        }
      ]
    },
    {
      "cell_type": "code",
      "metadata": {
        "colab": {
          "base_uri": "https://localhost:8080/"
        },
        "id": "caJ31ANmiROR",
        "outputId": "7a583c9d-ffaf-4707-f69a-8488cd84979a"
      },
      "source": [
        "def select_features(X_train, y_train, X_test):\n",
        "\tfs = SelectKBest(score_func=mutual_info_classif,k=k1)\n",
        "\tfs.fit(X_train, y_train)\n",
        "\tX_train_fs = fs.transform(X_train)\n",
        "\tX_test_fs = fs.transform(X_test)\n",
        "\treturn X_train_fs, X_test_fs, fs\n",
        "\n",
        "def select_features2(X_train, y_train, X_test):\n",
        "\tfs = SelectKBest(score_func=mutual_info_classif,k=k3)\n",
        "\tfs.fit(X_train, y_train)\n",
        "\tX_train_fs = fs.transform(X_train)\n",
        "\tX_test_fs = fs.transform(X_test)\n",
        "\treturn X_train_fs, X_test_fs, fs\n",
        "\n",
        "def select_features3(X_train, y_train, X_test):\n",
        "\tfs = SelectKBest(score_func=mutual_info_classif,k=k5)\n",
        "\tfs.fit(X_train, y_train)\n",
        "\tX_train_fs = fs.transform(X_train)\n",
        "\tX_test_fs = fs.transform(X_test)\n",
        "\treturn X_train_fs, X_test_fs, fs\n",
        "\n",
        "\n",
        "X_train1, X_test1, fs = select_features(X_train, y_train, X_test)\n",
        "X_train3, X_test3, fs = select_features2(X_train2, y_train2, X_test2)\n",
        "X_train5, X_test5, fs = select_features3(X_train6, y_train6, X_test6)\n",
        "\n",
        " \n",
        "#---------------SVM------------------#\n",
        "#\n",
        "print(\"Without feature Selection : \")\n",
        "acc = svm(X_train6,y_train6,X_test6,y_test6)\n",
        "\n",
        "print(\"With feature Selection : \")\n",
        "acc1 = svm(X_train5,y_train6,X_test5,y_test6)\n",
        "\n",
        "#-------------Decision Tree-----------------#\n",
        "print(\"Without feature Selection : \")\n",
        "acc1,clf1 = Dec_tree(X_train1,y_train,X_test1,y_test)\n",
        "\n",
        "\n",
        "print(\"With feature Selection : \")\n",
        "acc,clf = Dec_tree(X_train,y_train,X_test,y_test)\n",
        "\n",
        "print(' ')\n",
        "\n",
        "#-------------XGBoost-----------------#\n",
        "print(\"Boosting the Decision Tree  \")\n",
        "acc = xgboost(X_train2,y_train2,X_test2,y_test2,clf)\n"
      ],
      "execution_count": 150,
      "outputs": [
        {
          "output_type": "stream",
          "text": [
            "/usr/local/lib/python3.6/dist-packages/sklearn/utils/validation.py:760: DataConversionWarning: A column-vector y was passed when a 1d array was expected. Please change the shape of y to (n_samples, ), for example using ravel().\n",
            "  y = column_or_1d(y, warn=True)\n",
            "/usr/local/lib/python3.6/dist-packages/sklearn/utils/validation.py:760: DataConversionWarning: A column-vector y was passed when a 1d array was expected. Please change the shape of y to (n_samples, ), for example using ravel().\n",
            "  y = column_or_1d(y, warn=True)\n"
          ],
          "name": "stderr"
        },
        {
          "output_type": "stream",
          "text": [
            "Without feature Selection : \n",
            "Model accuracy score with default hyperparameters: 60.0000\n",
            "With feature Selection : \n",
            "Model accuracy score with default hyperparameters: 70.0000\n",
            "Without feature Selection : \n",
            "Model accuracy score with Decision Tree 40.0\n",
            "With feature Selection : \n",
            "Model accuracy score with Decision Tree 50.0\n",
            " \n",
            "Boosting the Decision Tree  \n",
            "accuracy= 93.33333333333333\n"
          ],
          "name": "stdout"
        },
        {
          "output_type": "stream",
          "text": [
            "/usr/local/lib/python3.6/dist-packages/sklearn/utils/validation.py:760: DataConversionWarning: A column-vector y was passed when a 1d array was expected. Please change the shape of y to (n_samples, ), for example using ravel().\n",
            "  y = column_or_1d(y, warn=True)\n",
            "/usr/local/lib/python3.6/dist-packages/sklearn/utils/validation.py:760: DataConversionWarning: A column-vector y was passed when a 1d array was expected. Please change the shape of y to (n_samples, ), for example using ravel().\n",
            "  y = column_or_1d(y, warn=True)\n",
            "/usr/local/lib/python3.6/dist-packages/sklearn/utils/validation.py:760: DataConversionWarning: A column-vector y was passed when a 1d array was expected. Please change the shape of y to (n_samples, ), for example using ravel().\n",
            "  y = column_or_1d(y, warn=True)\n",
            "/usr/local/lib/python3.6/dist-packages/sklearn/preprocessing/_label.py:235: DataConversionWarning: A column-vector y was passed when a 1d array was expected. Please change the shape of y to (n_samples, ), for example using ravel().\n",
            "  y = column_or_1d(y, warn=True)\n",
            "/usr/local/lib/python3.6/dist-packages/sklearn/preprocessing/_label.py:268: DataConversionWarning: A column-vector y was passed when a 1d array was expected. Please change the shape of y to (n_samples, ), for example using ravel().\n",
            "  y = column_or_1d(y, warn=True)\n"
          ],
          "name": "stderr"
        }
      ]
    },
    {
      "cell_type": "markdown",
      "metadata": {
        "id": "udZl3BhOubrS"
      },
      "source": [
        "Accuracies vs Techniques"
      ]
    },
    {
      "cell_type": "code",
      "metadata": {
        "colab": {
          "base_uri": "https://localhost:8080/",
          "height": 334
        },
        "id": "WKBN8OCcuUKB",
        "outputId": "06bd190c-9b55-4726-b1e6-1deab9ea9bc0"
      },
      "source": [
        "import matplotlib.pyplot as plt\n",
        "#fig = plt.figure()\n",
        "fig = plt.figure(figsize =(10, 5)) \n",
        "#ax = fig.add_axes([0,0,1,1])\n",
        "Name = ['Decision Tree(with feature selection)','Decision Tree(without feature selection)', 'XGBoost', 'SVM(with feature selction)','SVM(without feature selction)']\n",
        "accuracies = [50,40,93.333,70,60]\n",
        "plt.bar(Name,accuracies)\n",
        "plt.ylabel('Accuracies')\n",
        "plt.xlabel('Techniques')\n",
        "plt.show()"
      ],
      "execution_count": 172,
      "outputs": [
        {
          "output_type": "display_data",
          "data": {
            "image/png": "[encoded data removed]",
            "text/plain": [
              "<Figure size 720x360 with 1 Axes>"
            ]
          },
          "metadata": {
            "tags": [],
            "needs_background": "light"
          }
        }
      ]
    },
    {
      "cell_type": "markdown",
      "metadata": {
        "id": "zyc7XYm7uuaQ"
      },
      "source": [
        "Prediction for new input"
      ]
    },
    {
      "cell_type": "code",
      "metadata": {
        "id": "O7c6prGGwigQ",
        "colab": {
          "base_uri": "https://localhost:8080/"
        },
        "outputId": "20ecd102-f806-43f8-d59e-8921ffffc8ae"
      },
      "source": [
        "# x_new = ['3','5','4','3','5','4','3','5','2','2','5','2','5','4','2','5','5','3','2','5','5','4','2','3','4']\n",
        "x_new = []\n",
        "feat = list(X.columns) \n",
        "for i in feat:\n",
        "  print(i)\n",
        "  val = input(\"Enter: \") \n",
        "  x_new.append(val)\n",
        "x_new"
      ],
      "execution_count": 170,
      "outputs": [
        {
          "output_type": "stream",
          "text": [
            "sslc\n",
            "Enter: 3\n",
            "hsc\n",
            "Enter: 5\n",
            "cgpa\n",
            "Enter: 4\n",
            "school_type\n",
            "Enter: 3\n",
            "no_of_miniprojects\n",
            "Enter: 5\n",
            "no_of_projects\n",
            "Enter: 4\n",
            "coresub_skill\n",
            "Enter: 3\n",
            "aptitude_skill\n",
            "Enter: 5\n",
            "problemsolving_skill\n",
            "Enter: 2\n",
            "programming_skill\n",
            "Enter: 2\n",
            "abstractthink_skill\n",
            "Enter: 5\n",
            "design_skill\n",
            "Enter: 2\n",
            "first_computer\n",
            "Enter: 5\n",
            "first_program\n",
            "Enter: 4\n",
            "lab_programs\n",
            "Enter: 2\n",
            "ds_coding\n",
            "Enter: 5\n",
            "technology_used\n",
            "Enter: 5\n",
            "sympos_attend\n",
            "Enter: 3\n",
            "sympos_won\n",
            "Enter: 2\n",
            "extracurricular\n",
            "Enter: 5\n",
            "learning_style\n",
            "Enter: 5\n",
            "college_bench\n",
            "Enter: 4\n",
            "clg_teachers_know\n",
            "Enter: 2\n",
            "college_performence\n",
            "Enter: 3\n",
            "college_skills\n",
            "Enter: 4\n"
          ],
          "name": "stdout"
        },
        {
          "output_type": "execute_result",
          "data": {
            "text/plain": [
              "['3',\n",
              " '5',\n",
              " '4',\n",
              " '3',\n",
              " '5',\n",
              " '4',\n",
              " '3',\n",
              " '5',\n",
              " '2',\n",
              " '2',\n",
              " '5',\n",
              " '2',\n",
              " '5',\n",
              " '4',\n",
              " '2',\n",
              " '5',\n",
              " '5',\n",
              " '3',\n",
              " '2',\n",
              " '5',\n",
              " '5',\n",
              " '4',\n",
              " '2',\n",
              " '3',\n",
              " '4']"
            ]
          },
          "metadata": {
            "tags": []
          },
          "execution_count": 170
        }
      ]
    },
    {
      "cell_type": "code",
      "metadata": {
        "id": "z2kjQBMywiy1",
        "colab": {
          "base_uri": "https://localhost:8080/"
        },
        "outputId": "aef6d03b-287b-4e2d-8c2b-15658ac044c8"
      },
      "source": [
        "#x_new = ['3','5','4','3','5','4','3','5','2','2','5','2','5','4','2','5','5','3','2','5','5','4','2','3','4']\n",
        "new_pred  = clf.predict([x_new])\n",
        "print(\"Prediction : {}\".format(y1[y1['Associated Number']==new_pred[0]]['ROLE']))"
      ],
      "execution_count": 182,
      "outputs": [
        {
          "output_type": "stream",
          "text": [
            "Prediction : 4    Technical Writer\n",
            "Name: ROLE, dtype: object\n"
          ],
          "name": "stdout"
        }
      ]
    },
    {
      "cell_type": "markdown",
      "metadata": {
        "id": "jHdvspMzzaKs"
      },
      "source": [
        "Algorithms : SVM, Decision Tree and XGBoost"
      ]
    },
    {
      "cell_type": "code",
      "metadata": {
        "id": "gm5sjkrDwiQ_"
      },
      "source": [
        "#Support Vector machine\n",
        "from sklearn.metrics import confusion_matrix,accuracy_score\n",
        "def svm(X_train,y_train,X_test,y_test):\n",
        "  from sklearn.svm import SVC\n",
        "  from pandas import read_csv\n",
        "  from sklearn.model_selection import train_test_split\n",
        "\n",
        "  # import metrics to compute accuracy\n",
        "  from sklearn.metrics import accuracy_score\n",
        "  svc=SVC() \n",
        "  # fit classifier to training set\n",
        "  svc.fit(X_train,y_train)\n",
        "  # make predictions on test set\n",
        "  y_pred=svc.predict(X_test)\n",
        "  # compute and print accuracy score\n",
        "  print('Model accuracy score with default hyperparameters: {0:0.4f}'. format(accuracy_score(y_test, y_pred)*100))\n",
        "  return accuracy_score(y_test, y_pred)*100\n",
        "\n",
        "def Dec_tree(X_train,y_train,X_test,y_test):\n",
        "  from sklearn import tree\n",
        "  clf = tree.DecisionTreeClassifier()\n",
        "  clf = clf.fit(X_train, y_train)\n",
        "  # Prediction\n",
        "  y_pred = clf.predict(X_test)\n",
        "  y_test_arr=y_test['role']\n",
        "  from sklearn.metrics import confusion_matrix,accuracy_score\n",
        "  accuracy = accuracy_score(y_test,y_pred)\n",
        "  print('Model accuracy score with Decision Tree', accuracy_score(y_test, y_pred)*100)\n",
        "  return accuracy*100,clf\n",
        "\n",
        "def xgboost(X_train,y_train,X_test,y_test,clf):\n",
        "  #X_train,X_test,y_train,y_test=train_test_split(X1,y,test_size=0.3,random_state=10)\n",
        "  shape = X_train.shape\n",
        "  X_train=pd.to_numeric(X_train.values.flatten())\n",
        "  X_train=X_train.reshape(shape)\n",
        "  from xgboost.sklearn import XGBClassifier\n",
        "  model = XGBClassifier()\n",
        "  model.fit(X_train, y_train)\n",
        "  xgb_y_pred  = clf.predict(X_test)\n",
        "  xgb_accuracy = accuracy_score(y_test,xgb_y_pred)\n",
        "  print(\"accuracy=\",xgb_accuracy*100)\n",
        "  return xgb_accuracy*100"
      ],
      "execution_count": null,
      "outputs": []
    }
  ]
}